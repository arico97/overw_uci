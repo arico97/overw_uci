{
 "cells": [
  {
   "cell_type": "code",
   "execution_count": 1,
   "metadata": {},
   "outputs": [],
   "source": [
    "from src import DataPreprocessor\n",
    "from src import ModelTrainer"
   ]
  },
  {
   "cell_type": "code",
   "execution_count": 2,
   "metadata": {},
   "outputs": [],
   "source": [
    "import pandas as pd"
   ]
  },
  {
   "cell_type": "code",
   "execution_count": 3,
   "metadata": {},
   "outputs": [],
   "source": [
    "# Path to the CSV file\n",
    "CSV_FILE_PATH = '../data/estimation+of+obesity+levels+based+on+eating+habits+and+physical+condition.zip'"
   ]
  },
  {
   "cell_type": "code",
   "execution_count": 4,
   "metadata": {},
   "outputs": [],
   "source": [
    "\n",
    "columns = [\n",
    "    \"Gender\",\n",
    "    \"Age\",\n",
    "    \"family_history_with_overweight\",\n",
    "    \"FAVC\",\n",
    "    \"FCVC\",\n",
    "    \"NCP\",\n",
    "    \"CAEC\",\n",
    "    \"SMOKE\",\n",
    "    \"CH2O\",\n",
    "    \"SCC\",\n",
    "    \"FAF\",\n",
    "    \"TUE\",\n",
    "    \"CALC\",\n",
    "    \"MTRANS\",\n",
    "]"
   ]
  },
  {
   "cell_type": "code",
   "execution_count": 5,
   "metadata": {},
   "outputs": [],
   "source": [
    "\n",
    "target = 'NObeyesdad'"
   ]
  },
  {
   "cell_type": "code",
   "execution_count": 6,
   "metadata": {},
   "outputs": [
    {
     "name": "stdout",
     "output_type": "stream",
     "text": [
      "[['Female' 'no' 'yes' ... 'no' 'no' 'Public_Transportation']\n",
      " ['Female' 'yes' 'yes' ... 'yes' 'Sometimes' 'Public_Transportation']\n",
      " ['Male' 'no' 'yes' ... 'no' 'Frequently' 'Public_Transportation']\n",
      " ...\n",
      " ['Female' 'no' 'yes' ... 'no' 'Sometimes' 'Public_Transportation']\n",
      " ['Female' 'no' 'yes' ... 'no' 'Sometimes' 'Public_Transportation']\n",
      " ['Female' 'no' 'yes' ... 'no' 'Sometimes' 'Public_Transportation']]\n",
      "[['Male' 'yes' 'no' 'no' 'Sometimes' 'no' 'Sometimes' 'Automobile']]\n"
     ]
    },
    {
     "name": "stderr",
     "output_type": "stream",
     "text": [
      "C:\\Users\\ALEX\\Documents\\portfolio\\codes\\overweight_uci\\ow_uci\\Lib\\site-packages\\sklearn\\base.py:493: UserWarning: X does not have valid feature names, but RandomForestClassifier was fitted with feature names\n",
      "  warnings.warn(\n"
     ]
    }
   ],
   "source": [
    "df = pd.read_csv(CSV_FILE_PATH)\n",
    "dp = DataPreprocessor()\n",
    "# df_categ = dp.preprocess_data(df)\n",
    "features = [\"Male\", 30, \"no\", \"no\", 1, 2, 'Sometimes', 'yes', 1, 'no', 3, 0, 'Sometimes', 'Automobile']\n",
    "feat = dict(map(lambda i, j: (i, j), columns, features))\n",
    "f = pd.DataFrame(feat, index=[0])\n",
    "# f[target] = None\n",
    "predictor = ModelTrainer(features)\n",
    "\n",
    "# Use the same CSV file for prediction\n",
    "#missing a ModelTrainer.trainmodel(df_train)\n",
    "predictor.predict_NObeyesdad(CSV_FILE_PATH)\n",
    "#features_prep = dp.preprocess_input_pred(f)\n",
    "#features_prep.drop(columns=[target], inplace=True)\n",
    "#prediction = self.model.predict(features_prep.values)\n",
    "#target_decoded = self.le.inverse_transform(np.array(prediction))\n",
    "#self.NObeyesdad = inv_map[target_decoded[0]]"
   ]
  },
  {
   "cell_type": "code",
   "execution_count": 8,
   "metadata": {},
   "outputs": [
    {
     "data": {
      "text/plain": [
       "'Normal_Weight'"
      ]
     },
     "execution_count": 8,
     "metadata": {},
     "output_type": "execute_result"
    }
   ],
   "source": [
    "predictor.NObeyesdad"
   ]
  },
  {
   "cell_type": "code",
   "execution_count": null,
   "metadata": {},
   "outputs": [],
   "source": []
  }
 ],
 "metadata": {
  "kernelspec": {
   "display_name": "Python 3 (ipykernel)",
   "language": "python",
   "name": "python3"
  },
  "language_info": {
   "codemirror_mode": {
    "name": "ipython",
    "version": 3
   },
   "file_extension": ".py",
   "mimetype": "text/x-python",
   "name": "python",
   "nbconvert_exporter": "python",
   "pygments_lexer": "ipython3",
   "version": "3.11.5"
  }
 },
 "nbformat": 4,
 "nbformat_minor": 4
}
